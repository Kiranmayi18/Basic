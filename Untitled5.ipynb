{
  "nbformat": 4,
  "nbformat_minor": 0,
  "metadata": {
    "colab": {
      "name": "Untitled5.ipynb",
      "provenance": [],
      "authorship_tag": "ABX9TyMn80dfem7n4CwJUBB9RBrN",
      "include_colab_link": true
    },
    "kernelspec": {
      "name": "python3",
      "display_name": "Python 3"
    },
    "language_info": {
      "name": "python"
    }
  },
  "cells": [
    {
      "cell_type": "markdown",
      "metadata": {
        "id": "view-in-github",
        "colab_type": "text"
      },
      "source": [
        "<a href=\"https://colab.research.google.com/github/Kiranmayi18/Basic/blob/main/Untitled5.ipynb\" target=\"_parent\"><img src=\"https://colab.research.google.com/assets/colab-badge.svg\" alt=\"Open In Colab\"/></a>"
      ]
    },
    {
      "cell_type": "markdown",
      "metadata": {
        "id": "djJMIbwGfSYC"
      },
      "source": [
        "FAKE FILE DETECTION"
      ]
    },
    {
      "cell_type": "markdown",
      "metadata": {
        "id": "gi1Vso7nfVO3"
      },
      "source": [
        "Objective:About detecting fake news with python and machine learning.\n",
        "This advance python project of detecting fake news, deals with fake news.\n",
        "Using machine learning,we build a project by downloading dataset(i.e fakenews.csv) from kaggle."
      ]
    },
    {
      "cell_type": "markdown",
      "metadata": {
        "id": "jIyWBGTufXpo"
      },
      "source": [
        "IMPORTING LIBRARIES"
      ]
    },
    {
      "cell_type": "code",
      "metadata": {
        "id": "jCF2KTsXfaUV"
      },
      "source": [
        "import pandas as pd\n",
        "import numpy as np\n",
        "import matplotlib.pyplot as plt\n",
        "import seaborn as sns"
      ],
      "execution_count": 1,
      "outputs": []
    },
    {
      "cell_type": "markdown",
      "metadata": {
        "id": "S-U-vgHjfrmu"
      },
      "source": [
        "READ THE DATASET"
      ]
    },
    {
      "cell_type": "code",
      "metadata": {
        "colab": {
          "base_uri": "https://localhost:8080/",
          "height": 439
        },
        "id": "pGOpCuwyftua",
        "outputId": "fcefe97b-a02e-4df9-db86-4624de266deb"
      },
      "source": [
        "news=pd.read_csv('fakenews.csv')\n",
        "news.head(8)"
      ],
      "execution_count": 33,
      "outputs": [
        {
          "output_type": "execute_result",
          "data": {
            "text/html": [
              "<div>\n",
              "<style scoped>\n",
              "    .dataframe tbody tr th:only-of-type {\n",
              "        vertical-align: middle;\n",
              "    }\n",
              "\n",
              "    .dataframe tbody tr th {\n",
              "        vertical-align: top;\n",
              "    }\n",
              "\n",
              "    .dataframe thead th {\n",
              "        text-align: right;\n",
              "    }\n",
              "</style>\n",
              "<table border=\"1\" class=\"dataframe\">\n",
              "  <thead>\n",
              "    <tr style=\"text-align: right;\">\n",
              "      <th></th>\n",
              "      <th>unit_id</th>\n",
              "      <th>article_title</th>\n",
              "      <th>article_content</th>\n",
              "      <th>source</th>\n",
              "      <th>location</th>\n",
              "      <th>labels</th>\n",
              "      <th>date</th>\n",
              "      <th>month</th>\n",
              "      <th>year</th>\n",
              "    </tr>\n",
              "  </thead>\n",
              "  <tbody>\n",
              "    <tr>\n",
              "      <th>0</th>\n",
              "      <td>1.914948e+09</td>\n",
              "      <td>Syria attack symptoms consistent with nerve ag...</td>\n",
              "      <td>Wed 05 Apr 2017 Syria attack symptoms consiste...</td>\n",
              "      <td>nna</td>\n",
              "      <td>idlib</td>\n",
              "      <td>0.0</td>\n",
              "      <td>1.0</td>\n",
              "      <td>jan</td>\n",
              "      <td>1990.0</td>\n",
              "    </tr>\n",
              "    <tr>\n",
              "      <th>1</th>\n",
              "      <td>1.914948e+09</td>\n",
              "      <td>Homs governor says U.S. attack caused deaths b...</td>\n",
              "      <td>Fri 07 Apr 2017 at 0914 Homs governor says U.S...</td>\n",
              "      <td>nna</td>\n",
              "      <td>homs</td>\n",
              "      <td>0.0</td>\n",
              "      <td>2.0</td>\n",
              "      <td>feb</td>\n",
              "      <td>2003.0</td>\n",
              "    </tr>\n",
              "    <tr>\n",
              "      <th>2</th>\n",
              "      <td>1.914948e+09</td>\n",
              "      <td>Death toll from Aleppo bomb attack at least 112</td>\n",
              "      <td>Sun 16 Apr 2017 Death toll from Aleppo bomb at...</td>\n",
              "      <td>nna</td>\n",
              "      <td>aleppo</td>\n",
              "      <td>0.0</td>\n",
              "      <td>3.0</td>\n",
              "      <td>mar</td>\n",
              "      <td>2006.0</td>\n",
              "    </tr>\n",
              "    <tr>\n",
              "      <th>3</th>\n",
              "      <td>1.914948e+09</td>\n",
              "      <td>Aleppo bomb blast kills six Syrian state TV</td>\n",
              "      <td>Wed 19 Apr 2017 Aleppo bomb blast kills six Sy...</td>\n",
              "      <td>nna</td>\n",
              "      <td>aleppo</td>\n",
              "      <td>0.0</td>\n",
              "      <td>5.0</td>\n",
              "      <td>apr</td>\n",
              "      <td>2010.0</td>\n",
              "    </tr>\n",
              "    <tr>\n",
              "      <th>4</th>\n",
              "      <td>1.914948e+09</td>\n",
              "      <td>29 Syria Rebels Dead in Fighting for Key Alepp...</td>\n",
              "      <td>Sun 10 Jul 2016 29 Syria Rebels Dead in Fighti...</td>\n",
              "      <td>nna</td>\n",
              "      <td>aleppo</td>\n",
              "      <td>0.0</td>\n",
              "      <td>6.0</td>\n",
              "      <td>may</td>\n",
              "      <td>1990.0</td>\n",
              "    </tr>\n",
              "    <tr>\n",
              "      <th>5</th>\n",
              "      <td>1.914948e+09</td>\n",
              "      <td>Suicide bombing kills at least 16 in northeast...</td>\n",
              "      <td>Tue 05 Jul 2016 Suicide bombing kills at least...</td>\n",
              "      <td>nna</td>\n",
              "      <td>hasakeh</td>\n",
              "      <td>0.0</td>\n",
              "      <td>7.0</td>\n",
              "      <td>jun</td>\n",
              "      <td>2012.0</td>\n",
              "    </tr>\n",
              "    <tr>\n",
              "      <th>6</th>\n",
              "      <td>1.914948e+09</td>\n",
              "      <td>22 dead in heavy U.S. raids on IS Syria strong...</td>\n",
              "      <td>Sun 05 Jul 2015 22 dead in heavy U.S. raids on...</td>\n",
              "      <td>nna</td>\n",
              "      <td>raqqa</td>\n",
              "      <td>0.0</td>\n",
              "      <td>8.0</td>\n",
              "      <td>jul</td>\n",
              "      <td>2003.0</td>\n",
              "    </tr>\n",
              "    <tr>\n",
              "      <th>7</th>\n",
              "      <td>1.914948e+09</td>\n",
              "      <td>Suicide bomber kills 4 in Assad clans hometown</td>\n",
              "      <td>Sun 22 Feb 2015 Suicide bomber kills 4 in Assa...</td>\n",
              "      <td>nna</td>\n",
              "      <td>lattakia</td>\n",
              "      <td>0.0</td>\n",
              "      <td>12.0</td>\n",
              "      <td>aug</td>\n",
              "      <td>1990.0</td>\n",
              "    </tr>\n",
              "  </tbody>\n",
              "</table>\n",
              "</div>"
            ],
            "text/plain": [
              "        unit_id  ...    year\n",
              "0  1.914948e+09  ...  1990.0\n",
              "1  1.914948e+09  ...  2003.0\n",
              "2  1.914948e+09  ...  2006.0\n",
              "3  1.914948e+09  ...  2010.0\n",
              "4  1.914948e+09  ...  1990.0\n",
              "5  1.914948e+09  ...  2012.0\n",
              "6  1.914948e+09  ...  2003.0\n",
              "7  1.914948e+09  ...  1990.0\n",
              "\n",
              "[8 rows x 9 columns]"
            ]
          },
          "metadata": {},
          "execution_count": 33
        }
      ]
    },
    {
      "cell_type": "code",
      "metadata": {
        "colab": {
          "base_uri": "https://localhost:8080/",
          "height": 423
        },
        "id": "J-4YPok8gDPw",
        "outputId": "6196e47c-41b6-4771-ea5c-aeae69359433"
      },
      "source": [
        "news.isnull()"
      ],
      "execution_count": 3,
      "outputs": [
        {
          "output_type": "execute_result",
          "data": {
            "text/html": [
              "<div>\n",
              "<style scoped>\n",
              "    .dataframe tbody tr th:only-of-type {\n",
              "        vertical-align: middle;\n",
              "    }\n",
              "\n",
              "    .dataframe tbody tr th {\n",
              "        vertical-align: top;\n",
              "    }\n",
              "\n",
              "    .dataframe thead th {\n",
              "        text-align: right;\n",
              "    }\n",
              "</style>\n",
              "<table border=\"1\" class=\"dataframe\">\n",
              "  <thead>\n",
              "    <tr style=\"text-align: right;\">\n",
              "      <th></th>\n",
              "      <th>unit_id</th>\n",
              "      <th>article_title</th>\n",
              "      <th>article_content</th>\n",
              "      <th>source</th>\n",
              "      <th>location</th>\n",
              "      <th>labels</th>\n",
              "      <th>date</th>\n",
              "      <th>month</th>\n",
              "      <th>year</th>\n",
              "    </tr>\n",
              "  </thead>\n",
              "  <tbody>\n",
              "    <tr>\n",
              "      <th>0</th>\n",
              "      <td>False</td>\n",
              "      <td>False</td>\n",
              "      <td>False</td>\n",
              "      <td>False</td>\n",
              "      <td>False</td>\n",
              "      <td>False</td>\n",
              "      <td>False</td>\n",
              "      <td>False</td>\n",
              "      <td>False</td>\n",
              "    </tr>\n",
              "    <tr>\n",
              "      <th>1</th>\n",
              "      <td>False</td>\n",
              "      <td>False</td>\n",
              "      <td>False</td>\n",
              "      <td>False</td>\n",
              "      <td>False</td>\n",
              "      <td>False</td>\n",
              "      <td>False</td>\n",
              "      <td>False</td>\n",
              "      <td>False</td>\n",
              "    </tr>\n",
              "    <tr>\n",
              "      <th>2</th>\n",
              "      <td>False</td>\n",
              "      <td>False</td>\n",
              "      <td>False</td>\n",
              "      <td>False</td>\n",
              "      <td>False</td>\n",
              "      <td>False</td>\n",
              "      <td>False</td>\n",
              "      <td>False</td>\n",
              "      <td>False</td>\n",
              "    </tr>\n",
              "    <tr>\n",
              "      <th>3</th>\n",
              "      <td>False</td>\n",
              "      <td>False</td>\n",
              "      <td>False</td>\n",
              "      <td>False</td>\n",
              "      <td>False</td>\n",
              "      <td>False</td>\n",
              "      <td>False</td>\n",
              "      <td>False</td>\n",
              "      <td>False</td>\n",
              "    </tr>\n",
              "    <tr>\n",
              "      <th>4</th>\n",
              "      <td>False</td>\n",
              "      <td>False</td>\n",
              "      <td>False</td>\n",
              "      <td>False</td>\n",
              "      <td>False</td>\n",
              "      <td>False</td>\n",
              "      <td>False</td>\n",
              "      <td>False</td>\n",
              "      <td>False</td>\n",
              "    </tr>\n",
              "    <tr>\n",
              "      <th>...</th>\n",
              "      <td>...</td>\n",
              "      <td>...</td>\n",
              "      <td>...</td>\n",
              "      <td>...</td>\n",
              "      <td>...</td>\n",
              "      <td>...</td>\n",
              "      <td>...</td>\n",
              "      <td>...</td>\n",
              "      <td>...</td>\n",
              "    </tr>\n",
              "    <tr>\n",
              "      <th>410</th>\n",
              "      <td>True</td>\n",
              "      <td>True</td>\n",
              "      <td>True</td>\n",
              "      <td>True</td>\n",
              "      <td>True</td>\n",
              "      <td>True</td>\n",
              "      <td>True</td>\n",
              "      <td>True</td>\n",
              "      <td>True</td>\n",
              "    </tr>\n",
              "    <tr>\n",
              "      <th>411</th>\n",
              "      <td>True</td>\n",
              "      <td>True</td>\n",
              "      <td>True</td>\n",
              "      <td>True</td>\n",
              "      <td>True</td>\n",
              "      <td>True</td>\n",
              "      <td>True</td>\n",
              "      <td>True</td>\n",
              "      <td>True</td>\n",
              "    </tr>\n",
              "    <tr>\n",
              "      <th>412</th>\n",
              "      <td>True</td>\n",
              "      <td>True</td>\n",
              "      <td>True</td>\n",
              "      <td>True</td>\n",
              "      <td>True</td>\n",
              "      <td>True</td>\n",
              "      <td>True</td>\n",
              "      <td>True</td>\n",
              "      <td>True</td>\n",
              "    </tr>\n",
              "    <tr>\n",
              "      <th>413</th>\n",
              "      <td>True</td>\n",
              "      <td>True</td>\n",
              "      <td>True</td>\n",
              "      <td>True</td>\n",
              "      <td>True</td>\n",
              "      <td>True</td>\n",
              "      <td>True</td>\n",
              "      <td>True</td>\n",
              "      <td>True</td>\n",
              "    </tr>\n",
              "    <tr>\n",
              "      <th>414</th>\n",
              "      <td>True</td>\n",
              "      <td>True</td>\n",
              "      <td>True</td>\n",
              "      <td>True</td>\n",
              "      <td>True</td>\n",
              "      <td>True</td>\n",
              "      <td>True</td>\n",
              "      <td>True</td>\n",
              "      <td>True</td>\n",
              "    </tr>\n",
              "  </tbody>\n",
              "</table>\n",
              "<p>415 rows × 9 columns</p>\n",
              "</div>"
            ],
            "text/plain": [
              "     unit_id  article_title  article_content  ...   date  month   year\n",
              "0      False          False            False  ...  False  False  False\n",
              "1      False          False            False  ...  False  False  False\n",
              "2      False          False            False  ...  False  False  False\n",
              "3      False          False            False  ...  False  False  False\n",
              "4      False          False            False  ...  False  False  False\n",
              "..       ...            ...              ...  ...    ...    ...    ...\n",
              "410     True           True             True  ...   True   True   True\n",
              "411     True           True             True  ...   True   True   True\n",
              "412     True           True             True  ...   True   True   True\n",
              "413     True           True             True  ...   True   True   True\n",
              "414     True           True             True  ...   True   True   True\n",
              "\n",
              "[415 rows x 9 columns]"
            ]
          },
          "metadata": {},
          "execution_count": 3
        }
      ]
    },
    {
      "cell_type": "markdown",
      "metadata": {
        "id": "xHMhlG37gN8J"
      },
      "source": [
        "LINE PLOT"
      ]
    },
    {
      "cell_type": "code",
      "metadata": {
        "colab": {
          "base_uri": "https://localhost:8080/",
          "height": 279
        },
        "id": "uLeic2pAgP_o",
        "outputId": "c17aff46-70a8-4aa5-b99c-dc2c01234268"
      },
      "source": [
        "sns.lineplot(data=news,x=\"year\",y=\"date\")\n",
        "plt.show()"
      ],
      "execution_count": 5,
      "outputs": [
        {
          "output_type": "display_data",
          "data": {
            "image/png": "[encoded data removed]",
            "text/plain": [
              "<Figure size 432x288 with 1 Axes>"
            ]
          },
          "metadata": {
            "needs_background": "light"
          }
        }
      ]
    },
    {
      "cell_type": "markdown",
      "metadata": {
        "id": "LhavHTYtgoP0"
      },
      "source": [
        "HEAT MAP"
      ]
    },
    {
      "cell_type": "code",
      "metadata": {
        "colab": {
          "base_uri": "https://localhost:8080/",
          "height": 351
        },
        "id": "CoqK_pnZgp-d",
        "outputId": "e5104755-328f-4e8d-eafa-575d6ec35fe4"
      },
      "source": [
        "sns.heatmap(news.isnull())"
      ],
      "execution_count": 6,
      "outputs": [
        {
          "output_type": "execute_result",
          "data": {
            "text/plain": [
              "<matplotlib.axes._subplots.AxesSubplot at 0x7f5c27a07450>"
            ]
          },
          "metadata": {},
          "execution_count": 6
        },
        {
          "output_type": "display_data",
          "data": {
            "image/png": "[encoded data removed]",
            "text/plain": [
              "<Figure size 432x288 with 2 Axes>"
            ]
          },
          "metadata": {
            "needs_background": "light"
          }
        }
      ]
    },
    {
      "cell_type": "markdown",
      "metadata": {
        "id": "0akAOBM9pTbT"
      },
      "source": [
        "BOX PLOT"
      ]
    },
    {
      "cell_type": "code",
      "metadata": {
        "colab": {
          "base_uri": "https://localhost:8080/",
          "height": 515
        },
        "id": "rQa2aBoihENv",
        "outputId": "bd73567f-d6c8-4fee-9fb1-72b67cf5db0d"
      },
      "source": [
        "plt.figure(figsize=(10,8))\n",
        "sns.boxplot(x='year',y='date',data=news,palette='Dark2_r')"
      ],
      "execution_count": 9,
      "outputs": [
        {
          "output_type": "execute_result",
          "data": {
            "text/plain": [
              "<matplotlib.axes._subplots.AxesSubplot at 0x7f5c1ee47790>"
            ]
          },
          "metadata": {},
          "execution_count": 9
        },
        {
          "output_type": "display_data",
          "data": {
            "image/png": "[encoded data removed]",
            "text/plain": [
              "<Figure size 720x576 with 1 Axes>"
            ]
          },
          "metadata": {}
        }
      ]
    },
    {
      "cell_type": "markdown",
      "metadata": {
        "id": "7C_oN1FVhS_I"
      },
      "source": [
        "BAR PLOT"
      ]
    },
    {
      "cell_type": "code",
      "metadata": {
        "colab": {
          "base_uri": "https://localhost:8080/",
          "height": 297
        },
        "id": "y6OtSUaahUpe",
        "outputId": "6dbdf745-52f3-4b9d-b1ae-df32b21e7c65"
      },
      "source": [
        "sns.barplot(data=news,x='year',y='date')"
      ],
      "execution_count": 12,
      "outputs": [
        {
          "output_type": "execute_result",
          "data": {
            "text/plain": [
              "<matplotlib.axes._subplots.AxesSubplot at 0x7f5c1eb323d0>"
            ]
          },
          "metadata": {},
          "execution_count": 12
        },
        {
          "output_type": "display_data",
          "data": {
            "image/png": "[encoded data removed]",
            "text/plain": [
              "<Figure size 432x288 with 1 Axes>"
            ]
          },
          "metadata": {}
        }
      ]
    },
    {
      "cell_type": "markdown",
      "metadata": {
        "id": "yic-xfbRhs8W"
      },
      "source": [
        "SCATTER PLOT"
      ]
    },
    {
      "cell_type": "code",
      "metadata": {
        "colab": {
          "base_uri": "https://localhost:8080/",
          "height": 405
        },
        "id": "l2p3wRT4hukr",
        "outputId": "ebc7e5f4-2f0a-4607-9c70-be40169f21df"
      },
      "source": [
        "plt.figure(figsize=(6,6))\n",
        "sns.scatterplot(x='year',y='date',data=news,palette='Dark2_r')"
      ],
      "execution_count": 13,
      "outputs": [
        {
          "output_type": "execute_result",
          "data": {
            "text/plain": [
              "<matplotlib.axes._subplots.AxesSubplot at 0x7f5c1eab3e10>"
            ]
          },
          "metadata": {},
          "execution_count": 13
        },
        {
          "output_type": "display_data",
          "data": {
            "image/png": "[encoded data removed]",
            "text/plain": [
              "<Figure size 432x432 with 1 Axes>"
            ]
          },
          "metadata": {}
        }
      ]
    },
    {
      "cell_type": "markdown",
      "metadata": {
        "id": "1Md8sMIth4HN"
      },
      "source": [
        "CLEANING DATASET"
      ]
    },
    {
      "cell_type": "code",
      "metadata": {
        "id": "EkRKfyEbkonk"
      },
      "source": [
        "news.drop('source',axis=1,inplace=True)"
      ],
      "execution_count": 43,
      "outputs": []
    },
    {
      "cell_type": "code",
      "metadata": {
        "id": "7vjSXXx0t1uX",
        "outputId": "cd9c72f7-cd0c-45b9-a310-54f53d605b12",
        "colab": {
          "base_uri": "https://localhost:8080/",
          "height": 1000
        }
      },
      "source": [
        "news.head(45)"
      ],
      "execution_count": 44,
      "outputs": [
        {
          "output_type": "execute_result",
          "data": {
            "text/html": [
              "<div>\n",
              "<style scoped>\n",
              "    .dataframe tbody tr th:only-of-type {\n",
              "        vertical-align: middle;\n",
              "    }\n",
              "\n",
              "    .dataframe tbody tr th {\n",
              "        vertical-align: top;\n",
              "    }\n",
              "\n",
              "    .dataframe thead th {\n",
              "        text-align: right;\n",
              "    }\n",
              "</style>\n",
              "<table border=\"1\" class=\"dataframe\">\n",
              "  <thead>\n",
              "    <tr style=\"text-align: right;\">\n",
              "      <th></th>\n",
              "      <th>unit_id</th>\n",
              "      <th>article_title</th>\n",
              "      <th>article_content</th>\n",
              "      <th>location</th>\n",
              "      <th>labels</th>\n",
              "      <th>month</th>\n",
              "      <th>year</th>\n",
              "    </tr>\n",
              "  </thead>\n",
              "  <tbody>\n",
              "    <tr>\n",
              "      <th>0</th>\n",
              "      <td>1.914948e+09</td>\n",
              "      <td>Syria attack symptoms consistent with nerve ag...</td>\n",
              "      <td>Wed 05 Apr 2017 Syria attack symptoms consiste...</td>\n",
              "      <td>idlib</td>\n",
              "      <td>0.0</td>\n",
              "      <td>jan</td>\n",
              "      <td>1990.0</td>\n",
              "    </tr>\n",
              "    <tr>\n",
              "      <th>1</th>\n",
              "      <td>1.914948e+09</td>\n",
              "      <td>Homs governor says U.S. attack caused deaths b...</td>\n",
              "      <td>Fri 07 Apr 2017 at 0914 Homs governor says U.S...</td>\n",
              "      <td>homs</td>\n",
              "      <td>0.0</td>\n",
              "      <td>feb</td>\n",
              "      <td>2003.0</td>\n",
              "    </tr>\n",
              "    <tr>\n",
              "      <th>2</th>\n",
              "      <td>1.914948e+09</td>\n",
              "      <td>Death toll from Aleppo bomb attack at least 112</td>\n",
              "      <td>Sun 16 Apr 2017 Death toll from Aleppo bomb at...</td>\n",
              "      <td>aleppo</td>\n",
              "      <td>0.0</td>\n",
              "      <td>mar</td>\n",
              "      <td>2006.0</td>\n",
              "    </tr>\n",
              "    <tr>\n",
              "      <th>3</th>\n",
              "      <td>1.914948e+09</td>\n",
              "      <td>Aleppo bomb blast kills six Syrian state TV</td>\n",
              "      <td>Wed 19 Apr 2017 Aleppo bomb blast kills six Sy...</td>\n",
              "      <td>aleppo</td>\n",
              "      <td>0.0</td>\n",
              "      <td>apr</td>\n",
              "      <td>2010.0</td>\n",
              "    </tr>\n",
              "    <tr>\n",
              "      <th>4</th>\n",
              "      <td>1.914948e+09</td>\n",
              "      <td>29 Syria Rebels Dead in Fighting for Key Alepp...</td>\n",
              "      <td>Sun 10 Jul 2016 29 Syria Rebels Dead in Fighti...</td>\n",
              "      <td>aleppo</td>\n",
              "      <td>0.0</td>\n",
              "      <td>may</td>\n",
              "      <td>1990.0</td>\n",
              "    </tr>\n",
              "    <tr>\n",
              "      <th>5</th>\n",
              "      <td>1.914948e+09</td>\n",
              "      <td>Suicide bombing kills at least 16 in northeast...</td>\n",
              "      <td>Tue 05 Jul 2016 Suicide bombing kills at least...</td>\n",
              "      <td>hasakeh</td>\n",
              "      <td>0.0</td>\n",
              "      <td>jun</td>\n",
              "      <td>2012.0</td>\n",
              "    </tr>\n",
              "    <tr>\n",
              "      <th>6</th>\n",
              "      <td>1.914948e+09</td>\n",
              "      <td>22 dead in heavy U.S. raids on IS Syria strong...</td>\n",
              "      <td>Sun 05 Jul 2015 22 dead in heavy U.S. raids on...</td>\n",
              "      <td>raqqa</td>\n",
              "      <td>0.0</td>\n",
              "      <td>jul</td>\n",
              "      <td>2003.0</td>\n",
              "    </tr>\n",
              "    <tr>\n",
              "      <th>7</th>\n",
              "      <td>1.914948e+09</td>\n",
              "      <td>Suicide bomber kills 4 in Assad clans hometown</td>\n",
              "      <td>Sun 22 Feb 2015 Suicide bomber kills 4 in Assa...</td>\n",
              "      <td>lattakia</td>\n",
              "      <td>0.0</td>\n",
              "      <td>aug</td>\n",
              "      <td>1990.0</td>\n",
              "    </tr>\n",
              "    <tr>\n",
              "      <th>8</th>\n",
              "      <td>1.914948e+09</td>\n",
              "      <td>Explosion rocks down town Damascus</td>\n",
              "      <td>Sun 01 Feb 2015 Explosion rocks down town Dama...</td>\n",
              "      <td>damascus</td>\n",
              "      <td>1.0</td>\n",
              "      <td>sep</td>\n",
              "      <td>2010.0</td>\n",
              "    </tr>\n",
              "    <tr>\n",
              "      <th>9</th>\n",
              "      <td>1.914948e+09</td>\n",
              "      <td>Damascus explosion due to rocket bomb</td>\n",
              "      <td>Sat 24 Aug 2013 Damascus explosion due to rock...</td>\n",
              "      <td>damascus</td>\n",
              "      <td>0.0</td>\n",
              "      <td>oct</td>\n",
              "      <td>2003.0</td>\n",
              "    </tr>\n",
              "    <tr>\n",
              "      <th>10</th>\n",
              "      <td>1.915434e+09</td>\n",
              "      <td>Syrian regime steps up aerial assault on Douma</td>\n",
              "      <td>12 February 2015 Casualties mount in the Easte...</td>\n",
              "      <td>damascus</td>\n",
              "      <td>1.0</td>\n",
              "      <td>nov</td>\n",
              "      <td>2006.0</td>\n",
              "    </tr>\n",
              "    <tr>\n",
              "      <th>11</th>\n",
              "      <td>1.915434e+09</td>\n",
              "      <td>Hizballah leads regime offensive in southern S...</td>\n",
              "      <td>12 February 2015 Free Syrian Army and Nusra Fr...</td>\n",
              "      <td>damascus</td>\n",
              "      <td>1.0</td>\n",
              "      <td>dec</td>\n",
              "      <td>2012.0</td>\n",
              "    </tr>\n",
              "    <tr>\n",
              "      <th>12</th>\n",
              "      <td>1.915434e+09</td>\n",
              "      <td>Syrian opposition remains divided</td>\n",
              "      <td>23 February 2015 The Sawaiq al-Rahman Brigade ...</td>\n",
              "      <td>idlib</td>\n",
              "      <td>1.0</td>\n",
              "      <td>jan</td>\n",
              "      <td>1990.0</td>\n",
              "    </tr>\n",
              "    <tr>\n",
              "      <th>13</th>\n",
              "      <td>1.915434e+09</td>\n",
              "      <td>IS video shows murder of 2 Syrian activists</td>\n",
              "      <td>6 July 2015 So called Islamic State group has ...</td>\n",
              "      <td>raqqa</td>\n",
              "      <td>1.0</td>\n",
              "      <td>feb</td>\n",
              "      <td>2010.0</td>\n",
              "    </tr>\n",
              "    <tr>\n",
              "      <th>14</th>\n",
              "      <td>1.915434e+09</td>\n",
              "      <td>Syrias Nusra Front stages deadly suicide bombi...</td>\n",
              "      <td>7 July 2015 A suicide bomber from al-Qaedas Sy...</td>\n",
              "      <td>aleppo</td>\n",
              "      <td>0.0</td>\n",
              "      <td>mar</td>\n",
              "      <td>2006.0</td>\n",
              "    </tr>\n",
              "    <tr>\n",
              "      <th>15</th>\n",
              "      <td>1.915434e+09</td>\n",
              "      <td>Regime troops thwart rebel attack in Syrias Al...</td>\n",
              "      <td>8 July 2015 Regime forces fended off an attack...</td>\n",
              "      <td>aleppo</td>\n",
              "      <td>0.0</td>\n",
              "      <td>apr</td>\n",
              "      <td>2015.0</td>\n",
              "    </tr>\n",
              "    <tr>\n",
              "      <th>16</th>\n",
              "      <td>1.915434e+09</td>\n",
              "      <td>Ahrar al-Sham leader killed in Syria</td>\n",
              "      <td>15 July 2015 Abu Abdelrahman Salqeen leader of...</td>\n",
              "      <td>idlib</td>\n",
              "      <td>1.0</td>\n",
              "      <td>may</td>\n",
              "      <td>2003.0</td>\n",
              "    </tr>\n",
              "    <tr>\n",
              "      <th>17</th>\n",
              "      <td>1.915434e+09</td>\n",
              "      <td>Barrel bombs kill 11 in IS town in Syria</td>\n",
              "      <td>16 July 2015 At least 11 civilians including t...</td>\n",
              "      <td>aleppo</td>\n",
              "      <td>1.0</td>\n",
              "      <td>jun</td>\n",
              "      <td>2012.0</td>\n",
              "    </tr>\n",
              "    <tr>\n",
              "      <th>18</th>\n",
              "      <td>1.915434e+09</td>\n",
              "      <td>Rebels advance in north-western Syria</td>\n",
              "      <td>28 July 2015 Syrian rebels launched a huge off...</td>\n",
              "      <td>hasakeh</td>\n",
              "      <td>0.0</td>\n",
              "      <td>jul</td>\n",
              "      <td>2015.0</td>\n",
              "    </tr>\n",
              "    <tr>\n",
              "      <th>19</th>\n",
              "      <td>1.915434e+09</td>\n",
              "      <td>Israeli strike on Syrian town kills pro-regime...</td>\n",
              "      <td>29 July 2015 An Israeli airstrike on a governm...</td>\n",
              "      <td>damascus</td>\n",
              "      <td>0.0</td>\n",
              "      <td>aug</td>\n",
              "      <td>2010.0</td>\n",
              "    </tr>\n",
              "    <tr>\n",
              "      <th>20</th>\n",
              "      <td>1.915434e+09</td>\n",
              "      <td>Syria army plane crashes in rebel-held town</td>\n",
              "      <td>3 August 2015 A Syrian military aircraft crash...</td>\n",
              "      <td>idlib</td>\n",
              "      <td>0.0</td>\n",
              "      <td>sep</td>\n",
              "      <td>2012.0</td>\n",
              "    </tr>\n",
              "    <tr>\n",
              "      <th>21</th>\n",
              "      <td>1.915434e+09</td>\n",
              "      <td>Syrian regime revenge attack kills scores in Q...</td>\n",
              "      <td>2 July 2016 The Syrian regime has killed at le...</td>\n",
              "      <td>damascus</td>\n",
              "      <td>0.0</td>\n",
              "      <td>oct</td>\n",
              "      <td>1990.0</td>\n",
              "    </tr>\n",
              "    <tr>\n",
              "      <th>22</th>\n",
              "      <td>1.918150e+09</td>\n",
              "      <td>Chemical Massacre in Idlib Defies the World</td>\n",
              "      <td>April 5 2017 by Youssef Diab Paula Astih and N...</td>\n",
              "      <td>idlib</td>\n",
              "      <td>1.0</td>\n",
              "      <td>nov</td>\n",
              "      <td>2006.0</td>\n",
              "    </tr>\n",
              "    <tr>\n",
              "      <th>23</th>\n",
              "      <td>1.918150e+09</td>\n",
              "      <td>Bus Bombing Marks End to Tragic Evacuation Dea...</td>\n",
              "      <td>April 18 2017 Bus Bombing Marks End to Tragic ...</td>\n",
              "      <td>aleppo</td>\n",
              "      <td>1.0</td>\n",
              "      <td>dec</td>\n",
              "      <td>2012.0</td>\n",
              "    </tr>\n",
              "    <tr>\n",
              "      <th>24</th>\n",
              "      <td>1.918150e+09</td>\n",
              "      <td>Six Killed in Aleppo Bombing as Evacuation of ...</td>\n",
              "      <td>Posted on April 19 2017 by Asharq Al-Awsat Eng...</td>\n",
              "      <td>aleppo</td>\n",
              "      <td>1.0</td>\n",
              "      <td>jan</td>\n",
              "      <td>2003.0</td>\n",
              "    </tr>\n",
              "    <tr>\n",
              "      <th>25</th>\n",
              "      <td>1.918150e+09</td>\n",
              "      <td>58 Killed in Suspected Gas Attack in Syrias Idlib</td>\n",
              "      <td>Posted on April 4 2017 by Asharq Al-Awsat Engl...</td>\n",
              "      <td>idlib</td>\n",
              "      <td>1.0</td>\n",
              "      <td>feb</td>\n",
              "      <td>2010.0</td>\n",
              "    </tr>\n",
              "    <tr>\n",
              "      <th>26</th>\n",
              "      <td>1.918150e+09</td>\n",
              "      <td>MSF Syrian Regime Used Chemical Weapons in Hama</td>\n",
              "      <td>Posted on April 2 2017 by Youssef Diab MSF Syr...</td>\n",
              "      <td>hama</td>\n",
              "      <td>1.0</td>\n",
              "      <td>mar</td>\n",
              "      <td>2015.0</td>\n",
              "    </tr>\n",
              "    <tr>\n",
              "      <th>27</th>\n",
              "      <td>1.918150e+09</td>\n",
              "      <td>Toxic Gas Dropped on Syrian Town After Russian...</td>\n",
              "      <td>Posted on August 3 2016 by Jordan Dakamseh Tox...</td>\n",
              "      <td>idlib</td>\n",
              "      <td>0.0</td>\n",
              "      <td>apr</td>\n",
              "      <td>1990.0</td>\n",
              "    </tr>\n",
              "    <tr>\n",
              "      <th>28</th>\n",
              "      <td>1.918150e+09</td>\n",
              "      <td>Syrian Opposition Sparks Aleppo Front to Relie...</td>\n",
              "      <td>Posted on July 12 2016 by Paula Astih Syrian O...</td>\n",
              "      <td>aleppo</td>\n",
              "      <td>0.0</td>\n",
              "      <td>may</td>\n",
              "      <td>2012.0</td>\n",
              "    </tr>\n",
              "    <tr>\n",
              "      <th>29</th>\n",
              "      <td>1.918150e+09</td>\n",
              "      <td>Dozens Killed in International Coalition Airst...</td>\n",
              "      <td>Posted on July 20 2016 by Asharq Al-Awsat Doze...</td>\n",
              "      <td>aleppo</td>\n",
              "      <td>1.0</td>\n",
              "      <td>jun</td>\n",
              "      <td>2006.0</td>\n",
              "    </tr>\n",
              "    <tr>\n",
              "      <th>30</th>\n",
              "      <td>1.918150e+09</td>\n",
              "      <td>Thirty Killed in Syrian Strikes on Damascan Su...</td>\n",
              "      <td>Posted on July 2 2016 by Asharq Al-Awsat Engli...</td>\n",
              "      <td>damascus</td>\n",
              "      <td>0.0</td>\n",
              "      <td>jul</td>\n",
              "      <td>2012.0</td>\n",
              "    </tr>\n",
              "    <tr>\n",
              "      <th>31</th>\n",
              "      <td>1.918150e+09</td>\n",
              "      <td>Russians and the Syrian Regime Use Internation...</td>\n",
              "      <td>Posted on August 12 2016 by Youssef Diab Russi...</td>\n",
              "      <td>aleppo</td>\n",
              "      <td>0.0</td>\n",
              "      <td>aug</td>\n",
              "      <td>2010.0</td>\n",
              "    </tr>\n",
              "    <tr>\n",
              "      <th>32</th>\n",
              "      <td>1.918150e+09</td>\n",
              "      <td>Syria Kurdish Islamist violence kills 12 Al-Qa...</td>\n",
              "      <td>Posted on August 3 2013 by Nazeer Rida At leas...</td>\n",
              "      <td>hasakeh</td>\n",
              "      <td>1.0</td>\n",
              "      <td>sep</td>\n",
              "      <td>2006.0</td>\n",
              "    </tr>\n",
              "    <tr>\n",
              "      <th>33</th>\n",
              "      <td>1.918399e+09</td>\n",
              "      <td>Syrian army advances near Aleppo</td>\n",
              "      <td>Published February 18 2015 The Syrian army bac...</td>\n",
              "      <td>aleppo</td>\n",
              "      <td>0.0</td>\n",
              "      <td>oct</td>\n",
              "      <td>2012.0</td>\n",
              "    </tr>\n",
              "    <tr>\n",
              "      <th>34</th>\n",
              "      <td>1.918399e+09</td>\n",
              "      <td>Monitor 10 of 48 people executed by forces loy...</td>\n",
              "      <td>Published February 23 2015 Ten children were a...</td>\n",
              "      <td>aleppo</td>\n",
              "      <td>0.0</td>\n",
              "      <td>nov</td>\n",
              "      <td>2006.0</td>\n",
              "    </tr>\n",
              "    <tr>\n",
              "      <th>35</th>\n",
              "      <td>1.918399e+09</td>\n",
              "      <td>Suicide bomber kills 4 in Assad clans hometown</td>\n",
              "      <td>Published February 23 2015 A suicide bomber ki...</td>\n",
              "      <td>lattakia</td>\n",
              "      <td>1.0</td>\n",
              "      <td>dec</td>\n",
              "      <td>2003.0</td>\n",
              "    </tr>\n",
              "    <tr>\n",
              "      <th>36</th>\n",
              "      <td>1.918399e+09</td>\n",
              "      <td>US-led airstrikes target ISIS stronghold Raqqa</td>\n",
              "      <td>Published July 5 2015 U.S.-led coalition aircr...</td>\n",
              "      <td>raqqa</td>\n",
              "      <td>1.0</td>\n",
              "      <td>jan</td>\n",
              "      <td>2015.0</td>\n",
              "    </tr>\n",
              "    <tr>\n",
              "      <th>37</th>\n",
              "      <td>1.918399e+09</td>\n",
              "      <td>Assad regime launches operation in Latakia reg...</td>\n",
              "      <td>Published July 20 2015 A checkpoint that belon...</td>\n",
              "      <td>lattakia</td>\n",
              "      <td>1.0</td>\n",
              "      <td>feb</td>\n",
              "      <td>2010.0</td>\n",
              "    </tr>\n",
              "    <tr>\n",
              "      <th>38</th>\n",
              "      <td>1.918399e+09</td>\n",
              "      <td>Assad regime kills 18 civilians in Aleppo Monitor</td>\n",
              "      <td>Published July 21 2015 A young Syrian boy crie...</td>\n",
              "      <td>aleppo</td>\n",
              "      <td>1.0</td>\n",
              "      <td>mar</td>\n",
              "      <td>1990.0</td>\n",
              "    </tr>\n",
              "    <tr>\n",
              "      <th>39</th>\n",
              "      <td>1.918399e+09</td>\n",
              "      <td>Russian airstrikes hit Syrian opposition forces</td>\n",
              "      <td>Published April 2 2017 Syrian opposition force...</td>\n",
              "      <td>idlib</td>\n",
              "      <td>1.0</td>\n",
              "      <td>apr</td>\n",
              "      <td>2015.0</td>\n",
              "    </tr>\n",
              "    <tr>\n",
              "      <th>40</th>\n",
              "      <td>1.918399e+09</td>\n",
              "      <td>Syrian warplane crashes into market in northwe...</td>\n",
              "      <td>Published August 3 2015 People inspect the dam...</td>\n",
              "      <td>idlib</td>\n",
              "      <td>1.0</td>\n",
              "      <td>may</td>\n",
              "      <td>2006.0</td>\n",
              "    </tr>\n",
              "    <tr>\n",
              "      <th>41</th>\n",
              "      <td>1.918399e+09</td>\n",
              "      <td>Suicide bomb attack in Syrias Idlib mosque kil...</td>\n",
              "      <td>Published July 4 2015 An explosion at a mosque...</td>\n",
              "      <td>idlib</td>\n",
              "      <td>1.0</td>\n",
              "      <td>jun</td>\n",
              "      <td>2015.0</td>\n",
              "    </tr>\n",
              "    <tr>\n",
              "      <th>42</th>\n",
              "      <td>1.918399e+09</td>\n",
              "      <td>16 civilians killed in Syrias Hasakeh after mo...</td>\n",
              "      <td>Published July 5 2016 A motorcycle bomber kill...</td>\n",
              "      <td>hasakeh</td>\n",
              "      <td>1.0</td>\n",
              "      <td>jul</td>\n",
              "      <td>2003.0</td>\n",
              "    </tr>\n",
              "    <tr>\n",
              "      <th>43</th>\n",
              "      <td>1.918399e+09</td>\n",
              "      <td>2 medics among at least 31 dead in regime shel...</td>\n",
              "      <td>Published July 2 2016 Two medics were among at...</td>\n",
              "      <td>damascus</td>\n",
              "      <td>0.0</td>\n",
              "      <td>aug</td>\n",
              "      <td>2003.0</td>\n",
              "    </tr>\n",
              "    <tr>\n",
              "      <th>44</th>\n",
              "      <td>1.918399e+09</td>\n",
              "      <td>Assad regime airstrike kills 16 civilians in S...</td>\n",
              "      <td>Published July 2 2016 Syrians inspect the dama...</td>\n",
              "      <td>aleppo</td>\n",
              "      <td>1.0</td>\n",
              "      <td>sep</td>\n",
              "      <td>2006.0</td>\n",
              "    </tr>\n",
              "  </tbody>\n",
              "</table>\n",
              "</div>"
            ],
            "text/plain": [
              "         unit_id  ...    year\n",
              "0   1.914948e+09  ...  1990.0\n",
              "1   1.914948e+09  ...  2003.0\n",
              "2   1.914948e+09  ...  2006.0\n",
              "3   1.914948e+09  ...  2010.0\n",
              "4   1.914948e+09  ...  1990.0\n",
              "5   1.914948e+09  ...  2012.0\n",
              "6   1.914948e+09  ...  2003.0\n",
              "7   1.914948e+09  ...  1990.0\n",
              "8   1.914948e+09  ...  2010.0\n",
              "9   1.914948e+09  ...  2003.0\n",
              "10  1.915434e+09  ...  2006.0\n",
              "11  1.915434e+09  ...  2012.0\n",
              "12  1.915434e+09  ...  1990.0\n",
              "13  1.915434e+09  ...  2010.0\n",
              "14  1.915434e+09  ...  2006.0\n",
              "15  1.915434e+09  ...  2015.0\n",
              "16  1.915434e+09  ...  2003.0\n",
              "17  1.915434e+09  ...  2012.0\n",
              "18  1.915434e+09  ...  2015.0\n",
              "19  1.915434e+09  ...  2010.0\n",
              "20  1.915434e+09  ...  2012.0\n",
              "21  1.915434e+09  ...  1990.0\n",
              "22  1.918150e+09  ...  2006.0\n",
              "23  1.918150e+09  ...  2012.0\n",
              "24  1.918150e+09  ...  2003.0\n",
              "25  1.918150e+09  ...  2010.0\n",
              "26  1.918150e+09  ...  2015.0\n",
              "27  1.918150e+09  ...  1990.0\n",
              "28  1.918150e+09  ...  2012.0\n",
              "29  1.918150e+09  ...  2006.0\n",
              "30  1.918150e+09  ...  2012.0\n",
              "31  1.918150e+09  ...  2010.0\n",
              "32  1.918150e+09  ...  2006.0\n",
              "33  1.918399e+09  ...  2012.0\n",
              "34  1.918399e+09  ...  2006.0\n",
              "35  1.918399e+09  ...  2003.0\n",
              "36  1.918399e+09  ...  2015.0\n",
              "37  1.918399e+09  ...  2010.0\n",
              "38  1.918399e+09  ...  1990.0\n",
              "39  1.918399e+09  ...  2015.0\n",
              "40  1.918399e+09  ...  2006.0\n",
              "41  1.918399e+09  ...  2015.0\n",
              "42  1.918399e+09  ...  2003.0\n",
              "43  1.918399e+09  ...  2003.0\n",
              "44  1.918399e+09  ...  2006.0\n",
              "\n",
              "[45 rows x 7 columns]"
            ]
          },
          "metadata": {},
          "execution_count": 44
        }
      ]
    },
    {
      "cell_type": "markdown",
      "metadata": {
        "id": "tx6EqEJzqCt_"
      },
      "source": [
        "DATA CLEANING"
      ]
    },
    {
      "cell_type": "markdown",
      "metadata": {
        "id": "NlW3dwiSqFPq"
      },
      "source": [
        "The process of fixing or removing incorrect,corrupted,incorrectly formated,duplicate, or incomplete data within a dataset."
      ]
    },
    {
      "cell_type": "markdown",
      "metadata": {
        "id": "cefSfzFdweTS"
      },
      "source": [
        "head()"
      ]
    },
    {
      "cell_type": "markdown",
      "metadata": {
        "id": "NSVy-7o9v8JV"
      },
      "source": [
        "The head() function is a built-in function in pandas which is used to display the first five rows of the dataset"
      ]
    },
    {
      "cell_type": "code",
      "metadata": {
        "id": "7HDft93urgwR",
        "outputId": "302c0eb0-42db-48b3-a21f-05b79d80df9f",
        "colab": {
          "base_uri": "https://localhost:8080/",
          "height": 293
        }
      },
      "source": [
        "news.head()"
      ],
      "execution_count": 54,
      "outputs": [
        {
          "output_type": "execute_result",
          "data": {
            "text/html": [
              "<div>\n",
              "<style scoped>\n",
              "    .dataframe tbody tr th:only-of-type {\n",
              "        vertical-align: middle;\n",
              "    }\n",
              "\n",
              "    .dataframe tbody tr th {\n",
              "        vertical-align: top;\n",
              "    }\n",
              "\n",
              "    .dataframe thead th {\n",
              "        text-align: right;\n",
              "    }\n",
              "</style>\n",
              "<table border=\"1\" class=\"dataframe\">\n",
              "  <thead>\n",
              "    <tr style=\"text-align: right;\">\n",
              "      <th></th>\n",
              "      <th>unit_id</th>\n",
              "      <th>article_title</th>\n",
              "      <th>article_content</th>\n",
              "      <th>location</th>\n",
              "      <th>labels</th>\n",
              "      <th>month</th>\n",
              "      <th>year</th>\n",
              "    </tr>\n",
              "  </thead>\n",
              "  <tbody>\n",
              "    <tr>\n",
              "      <th>0</th>\n",
              "      <td>1.914948e+09</td>\n",
              "      <td>Syria attack symptoms consistent with nerve ag...</td>\n",
              "      <td>Wed 05 Apr 2017 Syria attack symptoms consiste...</td>\n",
              "      <td>idlib</td>\n",
              "      <td>0.0</td>\n",
              "      <td>jan</td>\n",
              "      <td>1990.0</td>\n",
              "    </tr>\n",
              "    <tr>\n",
              "      <th>1</th>\n",
              "      <td>1.914948e+09</td>\n",
              "      <td>Homs governor says U.S. attack caused deaths b...</td>\n",
              "      <td>Fri 07 Apr 2017 at 0914 Homs governor says U.S...</td>\n",
              "      <td>homs</td>\n",
              "      <td>0.0</td>\n",
              "      <td>feb</td>\n",
              "      <td>2003.0</td>\n",
              "    </tr>\n",
              "    <tr>\n",
              "      <th>2</th>\n",
              "      <td>1.914948e+09</td>\n",
              "      <td>Death toll from Aleppo bomb attack at least 112</td>\n",
              "      <td>Sun 16 Apr 2017 Death toll from Aleppo bomb at...</td>\n",
              "      <td>aleppo</td>\n",
              "      <td>0.0</td>\n",
              "      <td>mar</td>\n",
              "      <td>2006.0</td>\n",
              "    </tr>\n",
              "    <tr>\n",
              "      <th>3</th>\n",
              "      <td>1.914948e+09</td>\n",
              "      <td>Aleppo bomb blast kills six Syrian state TV</td>\n",
              "      <td>Wed 19 Apr 2017 Aleppo bomb blast kills six Sy...</td>\n",
              "      <td>aleppo</td>\n",
              "      <td>0.0</td>\n",
              "      <td>apr</td>\n",
              "      <td>2010.0</td>\n",
              "    </tr>\n",
              "    <tr>\n",
              "      <th>4</th>\n",
              "      <td>1.914948e+09</td>\n",
              "      <td>29 Syria Rebels Dead in Fighting for Key Alepp...</td>\n",
              "      <td>Sun 10 Jul 2016 29 Syria Rebels Dead in Fighti...</td>\n",
              "      <td>aleppo</td>\n",
              "      <td>0.0</td>\n",
              "      <td>may</td>\n",
              "      <td>1990.0</td>\n",
              "    </tr>\n",
              "  </tbody>\n",
              "</table>\n",
              "</div>"
            ],
            "text/plain": [
              "        unit_id  ...    year\n",
              "0  1.914948e+09  ...  1990.0\n",
              "1  1.914948e+09  ...  2003.0\n",
              "2  1.914948e+09  ...  2006.0\n",
              "3  1.914948e+09  ...  2010.0\n",
              "4  1.914948e+09  ...  1990.0\n",
              "\n",
              "[5 rows x 7 columns]"
            ]
          },
          "metadata": {},
          "execution_count": 54
        }
      ]
    },
    {
      "cell_type": "markdown",
      "metadata": {
        "id": "TDDdmB86wlNO"
      },
      "source": [
        "tail()"
      ]
    },
    {
      "cell_type": "markdown",
      "metadata": {
        "id": "6tntdNauwoCF"
      },
      "source": [
        "The tail() function is a built-in function in pandas which is used to display the last five rows of the dataset\n",
        "\n"
      ]
    },
    {
      "cell_type": "code",
      "metadata": {
        "id": "DS8fWpQbwyW5",
        "outputId": "91655154-f6f8-4c8c-af7b-052cf4f4621b",
        "colab": {
          "base_uri": "https://localhost:8080/",
          "height": 206
        }
      },
      "source": [
        "news.tail()"
      ],
      "execution_count": 55,
      "outputs": [
        {
          "output_type": "execute_result",
          "data": {
            "text/html": [
              "<div>\n",
              "<style scoped>\n",
              "    .dataframe tbody tr th:only-of-type {\n",
              "        vertical-align: middle;\n",
              "    }\n",
              "\n",
              "    .dataframe tbody tr th {\n",
              "        vertical-align: top;\n",
              "    }\n",
              "\n",
              "    .dataframe thead th {\n",
              "        text-align: right;\n",
              "    }\n",
              "</style>\n",
              "<table border=\"1\" class=\"dataframe\">\n",
              "  <thead>\n",
              "    <tr style=\"text-align: right;\">\n",
              "      <th></th>\n",
              "      <th>unit_id</th>\n",
              "      <th>article_title</th>\n",
              "      <th>article_content</th>\n",
              "      <th>location</th>\n",
              "      <th>labels</th>\n",
              "      <th>month</th>\n",
              "      <th>year</th>\n",
              "    </tr>\n",
              "  </thead>\n",
              "  <tbody>\n",
              "    <tr>\n",
              "      <th>410</th>\n",
              "      <td>NaN</td>\n",
              "      <td>NaN</td>\n",
              "      <td>NaN</td>\n",
              "      <td>NaN</td>\n",
              "      <td>NaN</td>\n",
              "      <td>NaN</td>\n",
              "      <td>NaN</td>\n",
              "    </tr>\n",
              "    <tr>\n",
              "      <th>411</th>\n",
              "      <td>NaN</td>\n",
              "      <td>NaN</td>\n",
              "      <td>NaN</td>\n",
              "      <td>NaN</td>\n",
              "      <td>NaN</td>\n",
              "      <td>NaN</td>\n",
              "      <td>NaN</td>\n",
              "    </tr>\n",
              "    <tr>\n",
              "      <th>412</th>\n",
              "      <td>NaN</td>\n",
              "      <td>NaN</td>\n",
              "      <td>NaN</td>\n",
              "      <td>NaN</td>\n",
              "      <td>NaN</td>\n",
              "      <td>NaN</td>\n",
              "      <td>NaN</td>\n",
              "    </tr>\n",
              "    <tr>\n",
              "      <th>413</th>\n",
              "      <td>NaN</td>\n",
              "      <td>NaN</td>\n",
              "      <td>NaN</td>\n",
              "      <td>NaN</td>\n",
              "      <td>NaN</td>\n",
              "      <td>NaN</td>\n",
              "      <td>NaN</td>\n",
              "    </tr>\n",
              "    <tr>\n",
              "      <th>414</th>\n",
              "      <td>NaN</td>\n",
              "      <td>NaN</td>\n",
              "      <td>NaN</td>\n",
              "      <td>NaN</td>\n",
              "      <td>NaN</td>\n",
              "      <td>NaN</td>\n",
              "      <td>NaN</td>\n",
              "    </tr>\n",
              "  </tbody>\n",
              "</table>\n",
              "</div>"
            ],
            "text/plain": [
              "     unit_id article_title article_content location  labels month  year\n",
              "410      NaN           NaN             NaN      NaN     NaN   NaN   NaN\n",
              "411      NaN           NaN             NaN      NaN     NaN   NaN   NaN\n",
              "412      NaN           NaN             NaN      NaN     NaN   NaN   NaN\n",
              "413      NaN           NaN             NaN      NaN     NaN   NaN   NaN\n",
              "414      NaN           NaN             NaN      NaN     NaN   NaN   NaN"
            ]
          },
          "metadata": {},
          "execution_count": 55
        }
      ]
    }
  ]
}